{
 "cells": [
  {
   "cell_type": "code",
   "execution_count": 1,
   "id": "800a0b82-dc69-43e3-a041-bec80ab8d0b1",
   "metadata": {},
   "outputs": [],
   "source": [
    "from serialization import find_sign_positions"
   ]
  },
  {
   "cell_type": "code",
   "execution_count": 6,
   "id": "27986fb9-7f3c-409c-95af-e4c6053362d0",
   "metadata": {},
   "outputs": [
    {
     "name": "stdout",
     "output_type": "stream",
     "text": [
      "0\n",
      "1\n",
      "2\n",
      "7\n",
      "8\n",
      "9\n",
      "10\n",
      "[1, 7, 9]\n"
     ]
    }
   ],
   "source": [
    "expression = \"5*(5*5)*5*4\"\n",
    "print(find_sign_positions(expression, 0, len(expression) -1))"
   ]
  },
  {
   "cell_type": "code",
   "execution_count": null,
   "id": "5972dc9a-05a7-4359-9602-945ae703ecea",
   "metadata": {},
   "outputs": [],
   "source": []
  }
 ],
 "metadata": {
  "kernelspec": {
   "display_name": "Python 3 (ipykernel)",
   "language": "python",
   "name": "python3"
  },
  "language_info": {
   "codemirror_mode": {
    "name": "ipython",
    "version": 3
   },
   "file_extension": ".py",
   "mimetype": "text/x-python",
   "name": "python",
   "nbconvert_exporter": "python",
   "pygments_lexer": "ipython3",
   "version": "3.8.18"
  }
 },
 "nbformat": 4,
 "nbformat_minor": 5
}
