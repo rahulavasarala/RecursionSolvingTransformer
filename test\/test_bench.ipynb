{
 "cells": [
  {
   "cell_type": "code",
   "execution_count": null,
   "id": "6caf6309-f1ba-4a71-8fcd-a09f8a4c63a0",
   "metadata": {},
   "outputs": [],
   "source": [
    "import numpy as np\n",
    "import math"
   ]
  },
  {
   "cell_type": "markdown",
   "id": "76d600c7-2f0f-492a-b73b-a0a322592e02",
   "metadata": {},
   "source": [
    "#### Testing the serialization code"
   ]
  },
  {
   "cell_type": "code",
   "execution_count": 63,
   "id": "d5c666c4-512c-453d-9179-8a08aa3a9a46",
   "metadata": {},
   "outputs": [],
   "source": [
    "#Usage: serialize(start = start, end = end, expression)\n",
    "\n",
    "def serialize(expression, start, end):\n",
    "\n",
    "    serialized_exp = serialize_helper(expression, start, end)\n",
    "\n",
    "    spaced_exp = \" \".join(serialized_exp)\n",
    "\n",
    "    return spaced_exp\n",
    "    \n",
    "def serialize_helper(expression, start, end):\n",
    "\n",
    "    if expression[start] == '(':\n",
    "\n",
    "        closed_index = find_closed_parenthesis(expression, start)\n",
    "        if closed_index == end: #This means that there are no signs\n",
    "            return serialize_helper(expression, start+ 1, end -1)\n",
    "        elif closed_index == -1:\n",
    "            raise Exception(\"No matching parenthesis found!\")\n",
    "        else:\n",
    "            sign_index = find_sign(expression, closed_index + 1, end)\n",
    "            sub1 = serialize_helper(expression, start, sign_index -1)\n",
    "            sign = \"\" + expression[sign_index]\n",
    "            sub2 = serialize_helper(expression, sign_index + 1, end)\n",
    "            return [sign] + sub1 + sub2\n",
    "    else:#If the expression starts with a number\n",
    "        sign_index = find_sign(expression, start + 1, end)\n",
    "        if sign_index == -1:\n",
    "            sub = expression[start:end + 1]\n",
    "            return [sub]\n",
    "        else:\n",
    "            sub1 = serialize_helper(expression, start, sign_index -1)\n",
    "            sign = \"\" + expression[sign_index]\n",
    "            sub2 = serialize_helper(expression, sign_index + 1, end)\n",
    "            return [sign] + sub1 + sub2\n",
    "            \n",
    "\n",
    "def find_closed_parenthesis(expression, start):\n",
    "\n",
    "    open_count = 0\n",
    "\n",
    "    for i in range(start + 1, len(expression)):\n",
    "\n",
    "        if expression[i] == '(':\n",
    "            open_count += 1\n",
    "        elif expression[i] == ')' and open_count == 0:\n",
    "            return i\n",
    "        elif expression[i] == ')':\n",
    "            open_count -= 1\n",
    "\n",
    "    return -1\n",
    "\n",
    "def find_sign(expression, start, end):\n",
    "\n",
    "    for i in range(start, end + 1):\n",
    "\n",
    "        if expression[i] == '(':\n",
    "            break\n",
    "        elif expression[i] in \"+-\":\n",
    "            return i\n",
    "\n",
    "    for i in range(start, end + 1):\n",
    "        if expression[i] == '(':\n",
    "            break\n",
    "        elif expression[i] in \"*/\":\n",
    "            return i\n",
    "\n",
    "    for i in range(start, end + 1):\n",
    "        if expression[i] == '(':\n",
    "            break\n",
    "        elif expression[i] in \"^\":\n",
    "            return i\n",
    "\n",
    "    return -1 #-1 will never be returned if closed index != end"
   ]
  },
  {
   "cell_type": "code",
   "execution_count": 67,
   "id": "46922d25-c469-43fd-b5ea-513b8ca49475",
   "metadata": {},
   "outputs": [
    {
     "name": "stdout",
     "output_type": "stream",
     "text": [
      "(1111^111)*11^(1+-1)\n",
      "-1\n",
      "-1\n",
      "* ^ 1111 111 ^ 11 + 1 -1\n"
     ]
    }
   ],
   "source": [
    "expression = \"(1111 ^111)*11^(1+ -1)\"\n",
    "\n",
    "expression = expression.replace(\" \", \"\")\n",
    "print(expression)\n",
    "\n",
    "print(find_closed_parenthesis(expression, 19))\n",
    "\n",
    "print(find_sign(expression, 0, len(expression) -1))\n",
    "#Find closed parenthesis is working\n",
    "\n",
    "ser_expression = serialize(expression, 0, len(expression) - 1)\n",
    "print(ser_expression)\n",
    "\n"
   ]
  },
  {
   "cell_type": "code",
   "execution_count": 65,
   "id": "2f99a05c-127a-470c-bc31-8ebc24ffddef",
   "metadata": {},
   "outputs": [],
   "source": [
    "def unserialize(expression):\n",
    "\n",
    "    expression_list = expression.split()\n",
    "\n",
    "    big_tree_end = find_tree_end(expression_list, 0)\n",
    "\n",
    "    if big_tree_end != len(expression_list) - 1:\n",
    "        print(\"Expression is invalid!\")\n",
    "\n",
    "    unserialized_expression = unserialize_helper(expression_list, 0, len(expression_list) -1)\\\n",
    "\n",
    "    return unserialized_expression\n",
    "\n",
    "\n",
    "def unserialize_helper(expression_list, start, end):\n",
    "\n",
    "    if start == end and expression_list[start] not in \"*/+-^\":\n",
    "        return expression_list[start]\n",
    "\n",
    "    if expression_list[start] in \"*/+-^\":\n",
    "        tree_end = find_tree_end(expression_list, start + 1)\n",
    "\n",
    "        left_expression = unserialize_helper(expression_list, start + 1, tree_end)\n",
    "        right_expression = unserialize_helper(expression_list, tree_end + 1, end)\n",
    "        sign = expression_list[start]\n",
    "\n",
    "        return \"({} {} {})\".format(left_expression, sign,right_expression)\n",
    "\n",
    "    \n",
    "def find_tree_end(expression_list, start):\n",
    "\n",
    "    if expression_list[start] not in \"*/+-^\":#if the start is just a number, the tree end is the index itself\n",
    "        return start\n",
    "\n",
    "    open_count = 2\n",
    "\n",
    "    for i in range(start + 1, len(expression_list)):\n",
    "\n",
    "        if expression_list[i] not in \"*/+-^\":\n",
    "            open_count -= 1\n",
    "        else:\n",
    "            open_count += 1\n",
    "\n",
    "        if open_count == 0:\n",
    "            return i\n",
    "\n",
    "    return -1"
   ]
  },
  {
   "cell_type": "code",
   "execution_count": 66,
   "id": "c7070fb4-5349-46a0-81d3-7f97d4c80a9b",
   "metadata": {},
   "outputs": [
    {
     "name": "stdout",
     "output_type": "stream",
     "text": [
      "((1111 ^ 111) * (11 ^ (1 + -1)))\n"
     ]
    }
   ],
   "source": [
    "serialized_expression = \"+ 1 * 1 1\"\n",
    "unser = unserialize(serialized_expression)\n",
    "unser2 = unserialize(ser_expression)\n",
    "print(unser2)"
   ]
  },
  {
   "cell_type": "code",
   "execution_count": 35,
   "id": "bc52da33-6da4-4a03-9fea-475d9ea8b6e4",
   "metadata": {},
   "outputs": [],
   "source": [
    "#Generate a list of 100 expressions that are unique, and \n",
    "\n",
    "import random\n",
    "\n",
    "def generate_recursion_data(n = 1000):\n",
    "\n",
    "    combination_map = {}\n",
    "\n",
    "    recursion_data = []\n",
    "\n",
    "    while len(recursion_data) < n:\n",
    "\n",
    "        a = random.randint(0,9)\n",
    "        b = random.randint(0,9)\n",
    "        c = random.randint(0,9)\n",
    "        d = random.randint(0,9)\n",
    "\n",
    "        key = 1000*a + 100*b + 10*c + d\n",
    "    \n",
    "        if key in combination_map:\n",
    "            continue\n",
    "\n",
    "        combination_map[key] = True\n",
    "\n",
    "        recursion_expression = \"r_(n+1) = {} * (r_n)^2 + {} * r_n + {} , r_0 = {}\".format(a, b , c, d)\n",
    "\n",
    "        recursion_data.append(recursion_expression)\n",
    "\n",
    "    return recursion_data\n",
    "\n",
    "def serialize_recursion_data(recursion_data):\n",
    "\n",
    "    serialized_recursions = []\n",
    "\n",
    "    for i in range(0, len(recursion_data)):\n",
    "        recursion_data[i] = recursion_data[i].replace(\" \", \"\")\n",
    "        parts = recursion_data[i].split(',')\n",
    "\n",
    "\n",
    "        first_equation = parts[0]\n",
    "        expressions = first_equation.split('=')\n",
    "\n",
    "        simp = []\n",
    "\n",
    "        for expression in expressions:\n",
    "            simp.append(serialize(0, len(expression) -1 , expression))\n",
    "\n",
    "        second_equation = parts[1]\n",
    "        expressions2 = second_equation.split('=')\n",
    "        simp2 = []\n",
    "\n",
    "        for expression in expressions2:\n",
    "            simp2.append(serialize(0, len(expression) -1 , expression))\n",
    "\n",
    "        serialized_recur = simp[0] + '=' + simp[1] + ',' + simp2[0] + '=' + simp2[1]\n",
    "        serialized_recursions.append(serialized_recur)\n",
    "\n",
    "    return serialized_recursions \n",
    "\n",
    "        \n",
    "        "
   ]
  },
  {
   "cell_type": "code",
   "execution_count": 38,
   "id": "eb02951e-06ac-4096-ad6a-c957c81d8ce7",
   "metadata": {},
   "outputs": [
    {
     "name": "stdout",
     "output_type": "stream",
     "text": [
      "['r_(n+1) = 1 * (r_n)^2 + 5 * r_n + 9 , r_0 = 5', 'r_(n+1) = 6 * (r_n)^2 + 8 * r_n + 7 , r_0 = 0', 'r_(n+1) = 0 * (r_n)^2 + 3 * r_n + 1 , r_0 = 5', 'r_(n+1) = 3 * (r_n)^2 + 3 * r_n + 4 , r_0 = 8', 'r_(n+1) = 7 * (r_n)^2 + 0 * r_n + 0 , r_0 = 0', 'r_(n+1) = 6 * (r_n)^2 + 7 * r_n + 3 , r_0 = 0', 'r_(n+1) = 6 * (r_n)^2 + 4 * r_n + 7 , r_0 = 5', 'r_(n+1) = 9 * (r_n)^2 + 2 * r_n + 8 , r_0 = 1', 'r_(n+1) = 1 * (r_n)^2 + 7 * r_n + 6 , r_0 = 9', 'r_(n+1) = 2 * (r_n)^2 + 6 * r_n + 4 , r_0 = 9']\n"
     ]
    }
   ],
   "source": [
    "recursion_data = generate_recursion_data(n = 10)\n",
    "print(recursion_data)\n",
    "\n",
    "# r_(n+1) = a * r_n + b*n + c, r[0] = d, \n",
    "\n",
    "# (2+ 3) + 5 , 2 + 3 + 5 ---> 2 + 3 + 5\n",
    "\n",
    "#  + + 2 3 5,  + 2 + 3 5\n",
    "\n",
    "\n",
    "\n",
    "\n",
    "\n",
    "\n"
   ]
  },
  {
   "cell_type": "code",
   "execution_count": 2,
   "id": "3d2ead02-0fdd-4a68-ade0-a58891d5c5d5",
   "metadata": {},
   "outputs": [
    {
     "name": "stdout",
     "output_type": "stream",
     "text": [
      "[3, 3, 3, 3, 4, 4, 4, 4]\n"
     ]
    }
   ],
   "source": [
    "str_list = [3,3,3,3]\n",
    "str_list2 = [4,4,4,4]\n",
    "str_list3 = str_list + str_list2\n",
    "print(str_list3)"
   ]
  },
  {
   "cell_type": "code",
   "execution_count": 40,
   "id": "ed0506da-8bcb-4037-a88a-ec6f530ddd10",
   "metadata": {},
   "outputs": [],
   "source": [
    "#Notes on serialization and unserialization algorithms:\n",
    "\n",
    "#good serialization agorithm is\n",
    "#if the opening and closing brackets are the start and the end indice, then start ++ end --\n",
    "#if the opening is a (, find the paired parenthesis\n",
    "# then find an optimal breaking point to run serialization on both sides\n",
    "#the optimal breaking point is found by finding the first +, -, *, /, ^ in that order before a (\n",
    "# there is guarenteed to be a sign in between parenthesis\n",
    "#find the break point, and recursively apply the serialization\n",
    "#base case is when you have serialization where start and end only encompass values and have no signs\n",
    "#then return a list containing the number or long variable as a string."
   ]
  },
  {
   "cell_type": "code",
   "execution_count": 55,
   "id": "88caad49-5f1d-4ba0-b59a-e96928709034",
   "metadata": {},
   "outputs": [
    {
     "name": "stdout",
     "output_type": "stream",
     "text": [
      "False\n"
     ]
    }
   ],
   "source": [
    "test = \"-1\"\n",
    "\n",
    "print(test in \"-+\")"
   ]
  },
  {
   "cell_type": "code",
   "execution_count": 1,
   "id": "8d18476d-2bef-4495-a1dc-6d43364ba0f8",
   "metadata": {},
   "outputs": [
    {
     "name": "stdout",
     "output_type": "stream",
     "text": [
      "0\n",
      "4\n",
      "2\n",
      "3\n",
      "4\n"
     ]
    }
   ],
   "source": [
    "#Ok, so we created an algorithm that is guarenteed to find a sign and two elements of the tree, and\n",
    "#serialize the data\n",
    "\n",
    "#Let us check whether this serialization works for any sort of data, and whether it can be modified to work for the _ operator\n",
    "\n",
    "#Ok so now we get into the _ operator. we want the _  to connect a to (n+1)(or whatever goes in this spot)\n",
    "\n",
    "#The total serialization algorithm should be called first finding the equality sign and then calling the serialization on both halves of the equality\n",
    "\n",
    "#unserialization should work recognizing _ and =\n",
    "\n",
    "#serialization should work on serializing the = and _, with the equal sign being the lowest priority, and the _ being the most priority\n",
    "#This is actually pretty funny\n",
    "\n",
    "\n",
    "for i in range(0, 5):\n",
    "\n",
    "    if i == 1:\n",
    "        i = 4\n",
    "\n",
    "    print(i)\n"
   ]
  },
  {
   "cell_type": "code",
   "execution_count": 5,
   "id": "dfab0b4e-b6bd-448b-ad07-cdf69a0be247",
   "metadata": {},
   "outputs": [
    {
     "ename": "SyntaxError",
     "evalue": "invalid syntax (3677428950.py, line 1)",
     "output_type": "error",
     "traceback": [
      "\u001b[0;36m  Cell \u001b[0;32mIn[5], line 1\u001b[0;36m\u001b[0m\n\u001b[0;31m    from ../serialization import find_sign_positions\u001b[0m\n\u001b[0m           ^\u001b[0m\n\u001b[0;31mSyntaxError\u001b[0m\u001b[0;31m:\u001b[0m invalid syntax\n"
     ]
    }
   ],
   "source": [
    "from serialization import find_sign_positions\n",
    "\n",
    "print(find_sign_positions(\"5 + (5*5) + 5\"))"
   ]
  },
  {
   "cell_type": "code",
   "execution_count": null,
   "id": "9f814324-e800-4c29-a548-12d49b31303b",
   "metadata": {},
   "outputs": [],
   "source": []
  }
 ],
 "metadata": {
  "kernelspec": {
   "display_name": "Python 3 (ipykernel)",
   "language": "python",
   "name": "python3"
  },
  "language_info": {
   "codemirror_mode": {
    "name": "ipython",
    "version": 3
   },
   "file_extension": ".py",
   "mimetype": "text/x-python",
   "name": "python",
   "nbconvert_exporter": "python",
   "pygments_lexer": "ipython3",
   "version": "3.8.18"
  }
 },
 "nbformat": 4,
 "nbformat_minor": 5
}
