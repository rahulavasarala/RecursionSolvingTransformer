{
 "cells": [
  {
   "cell_type": "code",
   "execution_count": 1,
   "id": "800a0b82-dc69-43e3-a041-bec80ab8d0b1",
   "metadata": {},
   "outputs": [],
   "source": [
    "from serialization import find_sign_positions"
   ]
  },
  {
   "cell_type": "code",
   "execution_count": 2,
   "id": "27986fb9-7f3c-409c-95af-e4c6053362d0",
   "metadata": {},
   "outputs": [
    {
     "name": "stdout",
     "output_type": "stream",
     "text": [
      "[1, 7, 9]\n"
     ]
    }
   ],
   "source": [
    "expression = \"5*(5*5)*5*4\"\n",
    "print(find_sign_positions(expression, 0, len(expression) -1))"
   ]
  },
  {
   "cell_type": "code",
   "execution_count": 1,
   "id": "5972dc9a-05a7-4359-9602-945ae703ecea",
   "metadata": {
    "scrolled": true
   },
   "outputs": [
    {
     "name": "stdout",
     "output_type": "stream",
     "text": [
      "T_n = (1/(1-1)) * n + (1/(1-1)) - 1/(1-1)^2 + 2 * a ^ n\n",
      "= _ T n + - + / 1 - 1 1 * / 1 - 1 1 n / 1 ^ - 1 1 2 * ^ a n 2\n"
     ]
    }
   ],
   "source": [
    "from serialization import random_serialize\n",
    "from serialization import unserialize\n",
    "from serialization import find_sign_positions\n",
    "from serialization import find_closed_parenthesis\n",
    "\n",
    "expression = \"T_n = ({b}/(1-{a})) * n + ({c}/(1-{a})) - {b}/(1-{a})^2 + {d} * a ^ n\".format(a = 1,  b = 1, c = 1, d = 2)\n",
    "expression2 = \"1/(-11-1)^2\"\n",
    "\n",
    "print(expression)\n",
    "\n",
    "print(random_serialize(expression, random= True))\n",
    "\n",
    "# ser_exp = random_serialize(expression, random = False)\n",
    "# rand_ser_exp = random_serialize(expression, random = True)\n",
    "# print(ser_exp)\n",
    "# print(rand_ser_exp)\n",
    "\n",
    "# # the goal is to make random serialize have a random toggle, and can handle the cases of\n",
    "# #double negatives\n",
    "\n",
    "\n",
    "\n",
    "# print(unserialize(ser_exp))\n",
    "# print(unserialize(rand_ser_exp))"
   ]
  },
  {
   "cell_type": "code",
   "execution_count": 3,
   "id": "e482cd67-d701-4664-b5c9-e058d35be1d5",
   "metadata": {},
   "outputs": [
    {
     "data": {
      "text/plain": [
       "(['= _ T + 1 n + * 8 _ T n + 4 * 6 n',\n",
       "  '= _ T + 1 n + 4 + * 6 n * _ T n 8',\n",
       "  '= _ T + 1 n + 4 + * _ T n 8 * 6 n',\n",
       "  '= _ T + n 1 + + * _ T n 4 * n 3 2',\n",
       "  '= _ T + n 1 + * 4 _ T n + * 3 n 2',\n",
       "  '= _ T + 1 n + + * 4 _ T n * 3 n 2',\n",
       "  '= _ T + n 1 + + * 4 _ T n * 6 n 1',\n",
       "  '= _ T + n 1 + + * n 6 1 * 4 _ T n',\n",
       "  '= _ T + n 1 + 1 + * n 6 * _ T n 4',\n",
       "  '= _ T + n 1 + + * n 9 * _ T n 8 0',\n",
       "  '= _ T + n 1 + + * _ T n 8 * n 9 0',\n",
       "  '= _ T + 1 n + + 0 * 9 n * 8 _ T n',\n",
       "  '= _ T + 1 n + * 2 _ T n + 0 * n 2',\n",
       "  '= _ T + n 1 + + * n 2 * 2 _ T n 0',\n",
       "  '= _ T + n 1 + 0 + * _ T n 2 * 2 n',\n",
       "  '= _ T + 1 n + + * 5 n 6 * 9 _ T n',\n",
       "  '= _ T + 1 n + 6 + * n 5 * _ T n 9',\n",
       "  '= _ T + n 1 + * _ T n 9 + 6 * 5 n',\n",
       "  '= _ T + n 1 + + * _ T n 0 * n 6 9',\n",
       "  '= _ T + 1 n + + * 6 n * _ T n 0 9',\n",
       "  '= _ T + n 1 + + 9 * 6 n * 0 _ T n',\n",
       "  '= _ T + n 1 + + 9 * 6 n * 3 _ T n',\n",
       "  '= _ T + 1 n + + * n 6 * 3 _ T n 9',\n",
       "  '= _ T + 1 n + + * n 6 9 * 3 _ T n',\n",
       "  '= _ T + n 1 + 0 + * 6 n * 4 _ T n',\n",
       "  '= _ T + 1 n + + 0 * n 6 * _ T n 4',\n",
       "  '= _ T + n 1 + + * 4 _ T n * n 6 0',\n",
       "  '= _ T + n 1 + + * _ T n 0 * 6 n 7',\n",
       "  '= _ T + 1 n + + * 6 n 7 * _ T n 0',\n",
       "  '= _ T + n 1 + * _ T n 0 + * 6 n 7',\n",
       "  '= _ T + 1 n + + * _ T n 6 * 5 n 6',\n",
       "  '= _ T + n 1 + * _ T n 6 + 6 * n 5',\n",
       "  '= _ T + 1 n + + * 6 _ T n * 5 n 6',\n",
       "  '= _ T + n 1 + + * _ T n 8 * n 8 7',\n",
       "  '= _ T + n 1 + + * n 8 * _ T n 8 7',\n",
       "  '= _ T + n 1 + 7 + * _ T n 8 * 8 n',\n",
       "  '= _ T + 1 n + 9 + * _ T n 5 * n 2',\n",
       "  '= _ T + n 1 + + * 2 n 9 * 5 _ T n',\n",
       "  '= _ T + n 1 + + * 2 n * 5 _ T n 9',\n",
       "  '= _ T + 1 n + 1 + * _ T n 6 * 7 n',\n",
       "  '= _ T + n 1 + + 1 * n 7 * _ T n 6',\n",
       "  '= _ T + 1 n + * 6 _ T n + 1 * 7 n',\n",
       "  '= _ T + 1 n + 6 + * 3 _ T n * 3 n',\n",
       "  '= _ T + 1 n + + * n 3 6 * 3 _ T n',\n",
       "  '= _ T + 1 n + + * _ T n 3 * n 3 6',\n",
       "  '= _ T + 1 n + * _ T n 3 + * 6 n 3',\n",
       "  '= _ T + 1 n + * _ T n 3 + 3 * 6 n',\n",
       "  '= _ T + 1 n + * 3 _ T n + 3 * n 6',\n",
       "  '= _ T + 1 n + * _ T n 2 + * 3 n 5',\n",
       "  '= _ T + n 1 + + * _ T n 2 * 3 n 5',\n",
       "  '= _ T + 1 n + 5 + * _ T n 2 * 3 n',\n",
       "  '= _ T + n 1 + * 8 _ T n + * 8 n 3',\n",
       "  '= _ T + 1 n + 3 + * _ T n 8 * 8 n',\n",
       "  '= _ T + 1 n + 3 + * 8 n * _ T n 8',\n",
       "  '= _ T + 1 n + + * _ T n 2 * n 6 4',\n",
       "  '= _ T + 1 n + 4 + * 2 _ T n * n 6',\n",
       "  '= _ T + 1 n + * _ T n 2 + 4 * n 6',\n",
       "  '= _ T + 1 n + + * _ T n 9 * 7 n 9',\n",
       "  '= _ T + n 1 + * _ T n 9 + 9 * 7 n',\n",
       "  '= _ T + 1 n + 9 + * _ T n 9 * n 7',\n",
       "  '= _ T + 1 n + * 3 _ T n + 2 * 3 n',\n",
       "  '= _ T + n 1 + + * 3 n * 3 _ T n 2',\n",
       "  '= _ T + 1 n + 2 + * _ T n 3 * n 3',\n",
       "  '= _ T + 1 n + 7 + * 2 _ T n * 1 n',\n",
       "  '= _ T + n 1 + + * n 1 7 * 2 _ T n',\n",
       "  '= _ T + n 1 + + * 1 n 7 * 2 _ T n',\n",
       "  '= _ T + 1 n + + 5 * n 1 * 8 _ T n',\n",
       "  '= _ T + 1 n + 5 + * n 1 * _ T n 8',\n",
       "  '= _ T + n 1 + + * 8 _ T n * 1 n 5',\n",
       "  '= _ T + 1 n + 6 + * n 4 * _ T n 5',\n",
       "  '= _ T + n 1 + * 5 _ T n + * n 4 6',\n",
       "  '= _ T + n 1 + + * 4 n 6 * 5 _ T n',\n",
       "  '= _ T + n 1 + 6 + * 3 n * 5 _ T n',\n",
       "  '= _ T + 1 n + + * 3 n * 5 _ T n 6',\n",
       "  '= _ T + 1 n + + * n 3 6 * _ T n 5',\n",
       "  '= _ T + n 1 + + 3 * n 8 * _ T n 2',\n",
       "  '= _ T + 1 n + + * n 8 * 2 _ T n 3',\n",
       "  '= _ T + 1 n + 3 + * n 8 * 2 _ T n',\n",
       "  '= _ T + 1 n + 3 + * _ T n 2 * 7 n',\n",
       "  '= _ T + 1 n + * 2 _ T n + 3 * 7 n',\n",
       "  '= _ T + 1 n + * 2 _ T n + * n 7 3',\n",
       "  '= _ T + n 1 + * 9 _ T n + 6 * 2 n',\n",
       "  '= _ T + n 1 + + * _ T n 9 * n 2 6',\n",
       "  '= _ T + n 1 + 6 + * n 2 * _ T n 9',\n",
       "  '= _ T + n 1 + + 0 * n 6 * 8 _ T n',\n",
       "  '= _ T + 1 n + + * 6 n * 8 _ T n 0',\n",
       "  '= _ T + n 1 + 0 + * _ T n 8 * 6 n',\n",
       "  '= _ T + 1 n + + 6 * 2 n * 8 _ T n',\n",
       "  '= _ T + n 1 + 6 + * 8 _ T n * 2 n',\n",
       "  '= _ T + n 1 + * _ T n 8 + 6 * n 2',\n",
       "  '= _ T + n 1 + + 4 * n 1 * _ T n 0',\n",
       "  '= _ T + 1 n + + 4 * n 1 * _ T n 0',\n",
       "  '= _ T + 1 n + * _ T n 0 + * 1 n 4',\n",
       "  '= _ T + 1 n + 1 + * 6 n * _ T n 3',\n",
       "  '= _ T + 1 n + + 1 * n 6 * _ T n 3',\n",
       "  '= _ T + n 1 + + * n 6 * 3 _ T n 1',\n",
       "  '= _ T + n 1 + + 5 * n 5 * _ T n 4',\n",
       "  '= _ T + n 1 + 5 + * 5 n * _ T n 4',\n",
       "  '= _ T + n 1 + 5 + * 4 _ T n * 5 n',\n",
       "  '= _ T + n 1 + + * 0 _ T n * 3 n 5',\n",
       "  '= _ T + n 1 + 5 + * _ T n 0 * 3 n',\n",
       "  '= _ T + 1 n + 5 + * 0 _ T n * 3 n'],\n",
       " 'T_n = (3/(1-0)) * n + (5/(1-0)) - 3/(1-0)^2 + d * a ^ n')"
      ]
     },
     "execution_count": 3,
     "metadata": {},
     "output_type": "execute_result"
    }
   ],
   "source": [
    "from dataset import init_recursion_solution_files\n",
    "\n",
    "init_recursion_solution_files()"
   ]
  },
  {
   "cell_type": "code",
   "execution_count": null,
   "id": "6941131e-fa05-44fc-9813-297ccde64d7e",
   "metadata": {},
   "outputs": [],
   "source": []
  }
 ],
 "metadata": {
  "kernelspec": {
   "display_name": "Python 3 (ipykernel)",
   "language": "python",
   "name": "python3"
  },
  "language_info": {
   "codemirror_mode": {
    "name": "ipython",
    "version": 3
   },
   "file_extension": ".py",
   "mimetype": "text/x-python",
   "name": "python",
   "nbconvert_exporter": "python",
   "pygments_lexer": "ipython3",
   "version": "3.8.18"
  }
 },
 "nbformat": 4,
 "nbformat_minor": 5
}
